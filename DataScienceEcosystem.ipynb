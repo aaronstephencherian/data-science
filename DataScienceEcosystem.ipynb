{
 "cells": [
  {
   "cell_type": "markdown",
   "id": "a76d536d-a18f-4158-b354-7a4e56940c53",
   "metadata": {},
   "source": [
    "# Data Science Tools and Ecosystem"
   ]
  },
  {
   "cell_type": "markdown",
   "id": "506bf2c4-1763-4680-acb7-2f8fc6a3794a",
   "metadata": {},
   "source": [
    "___In this notebook, Data Science Tools and Ecosystem are summarized.___\r\n"
   ]
  },
  {
   "cell_type": "markdown",
   "id": "1bd9f564-5efa-4df2-8fd8-1b06f2925b78",
   "metadata": {},
   "source": [
    "___Some of the popular languages that Data Scientists use are:___"
   ]
  },
  {
   "cell_type": "markdown",
   "id": "7b3f1674-e87a-4b04-9978-30a9d197e9e8",
   "metadata": {},
   "source": [
    "1. R\n",
    "2. Julia\n",
    "3. Java\n",
    "4. Go"
   ]
  },
  {
   "cell_type": "code",
   "execution_count": 5,
   "id": "414128f6-c12b-4628-b279-efba857d2d34",
   "metadata": {},
   "outputs": [
    {
     "ename": "SyntaxError",
     "evalue": "invalid syntax (2657682285.py, line 1)",
     "output_type": "error",
     "traceback": [
      "\u001b[1;36m  Cell \u001b[1;32mIn[5], line 1\u001b[1;36m\u001b[0m\n\u001b[1;33m    ___Some of the commonly used libraries used by Data Scientists include:___\u001b[0m\n\u001b[1;37m            ^\u001b[0m\n\u001b[1;31mSyntaxError\u001b[0m\u001b[1;31m:\u001b[0m invalid syntax\n"
     ]
    }
   ],
   "source": [
    "___Some of the commonly used libraries used by Data Scientists include:___\n"
   ]
  },
  {
   "cell_type": "markdown",
   "id": "b6424e64-98b8-4dde-83a0-ee0c831e6b3b",
   "metadata": {},
   "source": [
    "___Some of the commonly used libraries used by Data Scientists include:___"
   ]
  },
  {
   "cell_type": "markdown",
   "id": "0a701e57-5adc-4afc-b940-9a8ec6aac800",
   "metadata": {},
   "source": [
    "1. NumPy\n",
    "2. SciPy\n",
    "3. Pandas\n"
   ]
  },
  {
   "cell_type": "markdown",
   "id": "ff453ba4-7ef5-49a2-9ce9-f55cbb8ea527",
   "metadata": {},
   "source": [
    "|Data Science Tools|\n",
    "|------------------|\n",
    "|RStudio|\n",
    "|Apache Spark|\n",
    "|Tensor Flow|"
   ]
  },
  {
   "cell_type": "markdown",
   "id": "8ba486f1-7375-41b2-bd88-f41118281b0f",
   "metadata": {},
   "source": [
    "### Below are a few examples of evaluating arithmetic expressions in Python"
   ]
  },
  {
   "cell_type": "markdown",
   "id": "8dcafaaf-408a-42d7-b85d-3c408a1efe80",
   "metadata": {},
   "source": [
    "___Addition___"
   ]
  },
  {
   "cell_type": "code",
   "execution_count": 12,
   "id": "f81790e4-59b7-4b65-b3b9-cfed2c678e7b",
   "metadata": {},
   "outputs": [
    {
     "data": {
      "text/plain": [
       "11"
      ]
     },
     "execution_count": 12,
     "metadata": {},
     "output_type": "execute_result"
    }
   ],
   "source": [
    "3+8"
   ]
  },
  {
   "cell_type": "markdown",
   "id": "e74ad8b2-4c8a-4e31-b578-c5ca1059508c",
   "metadata": {},
   "source": [
    "___Subtraction___"
   ]
  },
  {
   "cell_type": "markdown",
   "id": "6c6c73ff-9394-4564-babc-ffd135361ced",
   "metadata": {},
   "source": [
    "8-3"
   ]
  },
  {
   "cell_type": "markdown",
   "id": "fa1ce21a-df54-4439-8004-d00f30d2d222",
   "metadata": {},
   "source": [
    "___Multiplication___"
   ]
  },
  {
   "cell_type": "code",
   "execution_count": 17,
   "id": "02f1910b-a8cc-4ad0-aca1-98b5d74e58df",
   "metadata": {},
   "outputs": [
    {
     "data": {
      "text/plain": [
       "24"
      ]
     },
     "execution_count": 17,
     "metadata": {},
     "output_type": "execute_result"
    }
   ],
   "source": [
    "8*3"
   ]
  },
  {
   "cell_type": "markdown",
   "id": "1786970b-b31c-461a-b0c6-9c88bd611b1f",
   "metadata": {},
   "source": [
    "___ This a simple arithmetic expression to mutiply then add integers___"
   ]
  },
  {
   "cell_type": "markdown",
   "id": "fe18d385-38db-45de-8f34-ec08ff6598a1",
   "metadata": {},
   "source": [
    "___ This a simple arithmetic expression to mutiply then add integers___"
   ]
  },
  {
   "cell_type": "markdown",
   "id": "4d4c7fa0-c9b8-4412-80ac-486eccd7d6af",
   "metadata": {},
   "source": [
    "*** This a simple arithmetic expression to mutiply then add integers.***"
   ]
  },
  {
   "cell_type": "code",
   "execution_count": 23,
   "id": "e9f397e3-852a-4989-ad90-612a8f64c73f",
   "metadata": {},
   "outputs": [
    {
     "ename": "SyntaxError",
     "evalue": "invalid syntax (3785082873.py, line 1)",
     "output_type": "error",
     "traceback": [
      "\u001b[1;36m  Cell \u001b[1;32mIn[23], line 1\u001b[1;36m\u001b[0m\n\u001b[1;33m    *** This a simple arithmetic expression to mutiply then add integers.***\u001b[0m\n\u001b[1;37m    ^\u001b[0m\n\u001b[1;31mSyntaxError\u001b[0m\u001b[1;31m:\u001b[0m invalid syntax\n"
     ]
    }
   ],
   "source": [
    "*** This a simple arithmetic expression to mutiply then add integers.***"
   ]
  },
  {
   "cell_type": "code",
   "execution_count": 25,
   "id": "1b7f649c-6278-4090-8a6a-e516da023c50",
   "metadata": {},
   "outputs": [
    {
     "data": {
      "text/plain": [
       "17"
      ]
     },
     "execution_count": 25,
     "metadata": {},
     "output_type": "execute_result"
    }
   ],
   "source": [
    "# This a simple arithmetic expression to mutiply then add integers\n",
    "(3*4)+5"
   ]
  },
  {
   "cell_type": "code",
   "execution_count": 27,
   "id": "bf3a3695-9f28-43b1-b557-549e60c1c169",
   "metadata": {},
   "outputs": [
    {
     "data": {
      "text/plain": [
       "20"
      ]
     },
     "execution_count": 27,
     "metadata": {},
     "output_type": "execute_result"
    }
   ],
   "source": [
    "#This will convert 200 minutes to hours by diving by 60\n",
    "200%60"
   ]
  },
  {
   "cell_type": "code",
   "execution_count": 29,
   "id": "343d8f97-44db-4ab1-89c2-7bfca487cf8e",
   "metadata": {},
   "outputs": [
    {
     "data": {
      "text/plain": [
       "3.3333333333333335"
      ]
     },
     "execution_count": 29,
     "metadata": {},
     "output_type": "execute_result"
    }
   ],
   "source": [
    "#This will convert 200 minutes to hours by diving by 60\n",
    "200/60"
   ]
  },
  {
   "cell_type": "markdown",
   "id": "423d6135-a40f-421a-82c4-f088e1ad7b99",
   "metadata": {},
   "source": [
    "__Objectives:__"
   ]
  },
  {
   "cell_type": "markdown",
   "id": "982ad0c7-35da-4f1d-9779-caae1eb685f6",
   "metadata": {},
   "source": [
    "#List popular languages for Data Science\n",
    "- java\n",
    "- R\n",
    "- julia"
   ]
  },
  {
   "cell_type": "markdown",
   "id": "08e9376b-e167-4fba-9f78-91f9aeae0e5b",
   "metadata": {},
   "source": [
    "## Author\n"
   ]
  },
  {
   "cell_type": "markdown",
   "id": "46240c33-90c8-4424-af49-f5799ed46319",
   "metadata": {},
   "source": [
    "name"
   ]
  },
  {
   "cell_type": "code",
   "execution_count": null,
   "id": "f1d56fe3-b45e-4388-88fa-e6443a857d01",
   "metadata": {},
   "outputs": [],
   "source": []
  }
 ],
 "metadata": {
  "kernelspec": {
   "display_name": "Python 3 (ipykernel)",
   "language": "python",
   "name": "python3"
  },
  "language_info": {
   "codemirror_mode": {
    "name": "ipython",
    "version": 3
   },
   "file_extension": ".py",
   "mimetype": "text/x-python",
   "name": "python",
   "nbconvert_exporter": "python",
   "pygments_lexer": "ipython3",
   "version": "3.12.4"
  }
 },
 "nbformat": 4,
 "nbformat_minor": 5
}
